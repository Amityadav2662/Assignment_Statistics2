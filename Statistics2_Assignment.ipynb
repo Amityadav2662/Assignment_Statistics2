{
 "cells": [
  {
   "cell_type": "code",
   "execution_count": null,
   "id": "7ec40d23-0b4c-4a90-a4bb-46d4162c0e27",
   "metadata": {},
   "outputs": [],
   "source": [
    "# Q1. What are the three measures of central tendency?\n",
    "Ans.\n",
    "The three measures of central tendency are the mean, median, and mode.\n",
    "1. Mean: Mean is the average of all the values in a dataset. It is calculated by adding all the values and \n",
    "then dividing by the number of values.\n",
    "2. Median: Median is the middle value in a dataset when all the values are arranged in increasing or \n",
    "decreasing order.\n",
    "3. Mode: Mode is the most frequent value in a dataset."
   ]
  },
  {
   "cell_type": "code",
   "execution_count": null,
   "id": "26602002-84bd-43d4-a062-bf102ccfaf17",
   "metadata": {},
   "outputs": [],
   "source": [
    "# Q2. What is the difference between the mean, median, and mode? How are they used to measure the\n",
    "# central tendency of a dataset?\n",
    "Ans.\n",
    "1. Mean: Mean is the average of all the values in a dataset. It is calculated by adding all the values and then\n",
    "dividing by the number of values.\n",
    "2. Median: Median is the middle value in a dataset when all the values are arranged in increasing or decreasing\n",
    "order. The median is more robust to outliers than the mean, but it does not take into account all the values in\n",
    "the dataset.\n",
    "3. Mode: Mode is the most frequent value in a dataset. The mode is the least affected by outliers, but it is not\n",
    "always a good representation of the center of the dataset."
   ]
  },
  {
   "cell_type": "code",
   "execution_count": 13,
   "id": "42498ca5-e02f-40e3-a6da-fc26764422eb",
   "metadata": {},
   "outputs": [],
   "source": [
    "# Example of mean, median, mode using dataset\n",
    "import numpy as np\n",
    "import seaborn as sns\n",
    "iris = sns.load_dataset(\"iris\")"
   ]
  },
  {
   "cell_type": "code",
   "execution_count": 14,
   "id": "11a4126f-e032-4b80-851e-51775b60a017",
   "metadata": {},
   "outputs": [
    {
     "data": {
      "text/html": [
       "<div>\n",
       "<style scoped>\n",
       "    .dataframe tbody tr th:only-of-type {\n",
       "        vertical-align: middle;\n",
       "    }\n",
       "\n",
       "    .dataframe tbody tr th {\n",
       "        vertical-align: top;\n",
       "    }\n",
       "\n",
       "    .dataframe thead th {\n",
       "        text-align: right;\n",
       "    }\n",
       "</style>\n",
       "<table border=\"1\" class=\"dataframe\">\n",
       "  <thead>\n",
       "    <tr style=\"text-align: right;\">\n",
       "      <th></th>\n",
       "      <th>sepal_length</th>\n",
       "      <th>sepal_width</th>\n",
       "      <th>petal_length</th>\n",
       "      <th>petal_width</th>\n",
       "      <th>species</th>\n",
       "    </tr>\n",
       "  </thead>\n",
       "  <tbody>\n",
       "    <tr>\n",
       "      <th>0</th>\n",
       "      <td>5.1</td>\n",
       "      <td>3.5</td>\n",
       "      <td>1.4</td>\n",
       "      <td>0.2</td>\n",
       "      <td>setosa</td>\n",
       "    </tr>\n",
       "    <tr>\n",
       "      <th>1</th>\n",
       "      <td>4.9</td>\n",
       "      <td>3.0</td>\n",
       "      <td>1.4</td>\n",
       "      <td>0.2</td>\n",
       "      <td>setosa</td>\n",
       "    </tr>\n",
       "    <tr>\n",
       "      <th>2</th>\n",
       "      <td>4.7</td>\n",
       "      <td>3.2</td>\n",
       "      <td>1.3</td>\n",
       "      <td>0.2</td>\n",
       "      <td>setosa</td>\n",
       "    </tr>\n",
       "    <tr>\n",
       "      <th>3</th>\n",
       "      <td>4.6</td>\n",
       "      <td>3.1</td>\n",
       "      <td>1.5</td>\n",
       "      <td>0.2</td>\n",
       "      <td>setosa</td>\n",
       "    </tr>\n",
       "    <tr>\n",
       "      <th>4</th>\n",
       "      <td>5.0</td>\n",
       "      <td>3.6</td>\n",
       "      <td>1.4</td>\n",
       "      <td>0.2</td>\n",
       "      <td>setosa</td>\n",
       "    </tr>\n",
       "  </tbody>\n",
       "</table>\n",
       "</div>"
      ],
      "text/plain": [
       "   sepal_length  sepal_width  petal_length  petal_width species\n",
       "0           5.1          3.5           1.4          0.2  setosa\n",
       "1           4.9          3.0           1.4          0.2  setosa\n",
       "2           4.7          3.2           1.3          0.2  setosa\n",
       "3           4.6          3.1           1.5          0.2  setosa\n",
       "4           5.0          3.6           1.4          0.2  setosa"
      ]
     },
     "execution_count": 14,
     "metadata": {},
     "output_type": "execute_result"
    }
   ],
   "source": [
    "iris.head()"
   ]
  },
  {
   "cell_type": "code",
   "execution_count": 15,
   "id": "9da3a21e-f634-474c-8325-ed2be378142a",
   "metadata": {},
   "outputs": [
    {
     "data": {
      "text/plain": [
       "5.843333333333334"
      ]
     },
     "execution_count": 15,
     "metadata": {},
     "output_type": "execute_result"
    }
   ],
   "source": [
    "np.mean(iris[\"sepal_length\"])"
   ]
  },
  {
   "cell_type": "code",
   "execution_count": 16,
   "id": "ecb58eed-770c-456b-99e7-de34fb8f5c8f",
   "metadata": {},
   "outputs": [
    {
     "data": {
      "text/plain": [
       "1.3"
      ]
     },
     "execution_count": 16,
     "metadata": {},
     "output_type": "execute_result"
    }
   ],
   "source": [
    "np.median(iris[\"petal_width\"])"
   ]
  },
  {
   "cell_type": "code",
   "execution_count": 17,
   "id": "1a5935e6-6c98-4053-adb2-4b0e13816a1a",
   "metadata": {},
   "outputs": [],
   "source": [
    "from scipy import stats"
   ]
  },
  {
   "cell_type": "code",
   "execution_count": 18,
   "id": "6812713d-ff11-4dfa-8cfd-e4cb99798f15",
   "metadata": {},
   "outputs": [
    {
     "name": "stderr",
     "output_type": "stream",
     "text": [
      "/tmp/ipykernel_77/4171521225.py:1: FutureWarning: Unlike other reduction functions (e.g. `skew`, `kurtosis`), the default behavior of `mode` typically preserves the axis it acts along. In SciPy 1.11.0, this behavior will change: the default value of `keepdims` will become False, the `axis` over which the statistic is taken will be eliminated, and the value None will no longer be accepted. Set `keepdims` to True or False to avoid this warning.\n",
      "  stats.mode(iris['species'])\n",
      "/opt/conda/lib/python3.10/site-packages/scipy/stats/_stats_py.py:112: RuntimeWarning: The input array could not be properly checked for nan values. nan values will be ignored.\n",
      "  warnings.warn(\"The input array could not be properly \"\n",
      "/tmp/ipykernel_77/4171521225.py:1: DeprecationWarning: Support for non-numeric arrays has been deprecated as of SciPy 1.9.0 and will be removed in 1.11.0. `pandas.DataFrame.mode` can be used instead, see https://pandas.pydata.org/docs/reference/api/pandas.DataFrame.mode.html.\n",
      "  stats.mode(iris['species'])\n"
     ]
    },
    {
     "data": {
      "text/plain": [
       "ModeResult(mode=array(['setosa'], dtype=object), count=array([50]))"
      ]
     },
     "execution_count": 18,
     "metadata": {},
     "output_type": "execute_result"
    }
   ],
   "source": [
    "stats.mode(iris['species'])"
   ]
  },
  {
   "cell_type": "code",
   "execution_count": 27,
   "id": "46c3dc98-86a4-42cf-acd0-e4108bed2a93",
   "metadata": {},
   "outputs": [
    {
     "data": {
      "text/plain": [
       "177.01875"
      ]
     },
     "execution_count": 27,
     "metadata": {},
     "output_type": "execute_result"
    }
   ],
   "source": [
    "# Q3. Measure the three measures of central tendency for the given height data:\n",
    "import numpy as np\n",
    "height = [178,177,176,177,178.2,178,175,179,180,175,178.9,176.2,177,172.5,178,176.5]\n",
    "np.mean(height)"
   ]
  },
  {
   "cell_type": "code",
   "execution_count": 29,
   "id": "3d2d5ddb-13d0-4fef-b72e-1c3364bd036f",
   "metadata": {},
   "outputs": [
    {
     "data": {
      "text/plain": [
       "177.0"
      ]
     },
     "execution_count": 29,
     "metadata": {},
     "output_type": "execute_result"
    }
   ],
   "source": [
    "np.median(height)"
   ]
  },
  {
   "cell_type": "code",
   "execution_count": 30,
   "id": "f966a6a7-1c38-425e-b49e-0bf65a1a1a0e",
   "metadata": {},
   "outputs": [],
   "source": [
    "from scipy import stats"
   ]
  },
  {
   "cell_type": "code",
   "execution_count": 32,
   "id": "8039c053-ca6b-40f5-b78e-2d787a1924f9",
   "metadata": {},
   "outputs": [
    {
     "name": "stderr",
     "output_type": "stream",
     "text": [
      "/tmp/ipykernel_77/1690947930.py:1: FutureWarning: Unlike other reduction functions (e.g. `skew`, `kurtosis`), the default behavior of `mode` typically preserves the axis it acts along. In SciPy 1.11.0, this behavior will change: the default value of `keepdims` will become False, the `axis` over which the statistic is taken will be eliminated, and the value None will no longer be accepted. Set `keepdims` to True or False to avoid this warning.\n",
      "  stats.mode(height)\n"
     ]
    },
    {
     "data": {
      "text/plain": [
       "ModeResult(mode=array([177.]), count=array([3]))"
      ]
     },
     "execution_count": 32,
     "metadata": {},
     "output_type": "execute_result"
    }
   ],
   "source": [
    "stats.mode(height)"
   ]
  },
  {
   "cell_type": "code",
   "execution_count": 33,
   "id": "3a208e95-2c26-42e9-8e75-13b0fd58ab6a",
   "metadata": {},
   "outputs": [],
   "source": [
    "# Q4. Find the standard deviation for the given data:\n",
    "\n",
    "import numpy as np\n",
    "data = [178,177,176,177,178.2,178,175,179,180,175,178.9,176.2,177,172.5,178,176.5]"
   ]
  },
  {
   "cell_type": "code",
   "execution_count": 34,
   "id": "65388068-c8c5-408a-978a-b3fc560424b1",
   "metadata": {},
   "outputs": [
    {
     "data": {
      "text/plain": [
       "1.7885814036548633"
      ]
     },
     "execution_count": 34,
     "metadata": {},
     "output_type": "execute_result"
    }
   ],
   "source": [
    "np.std(data)"
   ]
  },
  {
   "cell_type": "code",
   "execution_count": null,
   "id": "611e3921-119a-44e5-bdf1-c984cee0f06b",
   "metadata": {},
   "outputs": [],
   "source": [
    "# Q5. How are measures of dispersion such as range, variance, and standard deviation used to describe\n",
    "# the spread of a dataset? Provide an example. \n",
    "Ans.\n",
    "1. Range: The range is the difference between the highest and lowest values in a dataset. It is the simplest\n",
    "measure of dispersion, but it is not very sensitive to changes in the data.\n",
    "2. Variance: The variance is a measure of how spread out the data is around the mean. It is calculated by\n",
    "squaring the difference between each data point and the mean, and then averaging those squared differences.\n",
    "3. Standard deviation: The standard deviation is the square root of the variance. It is a more commonly used\n",
    "measure of dispersion than the variance because it is in the same units as the data."
   ]
  },
  {
   "cell_type": "code",
   "execution_count": 38,
   "id": "6ad55e6e-3575-4d4b-bb02-bf829051861f",
   "metadata": {},
   "outputs": [],
   "source": [
    "# Example\n",
    "import numpy as np\n",
    "import seaborn as sns\n",
    "diamond = sns.load_dataset(\"diamonds\")"
   ]
  },
  {
   "cell_type": "code",
   "execution_count": 40,
   "id": "18156bed-eb67-40c7-badc-3492c42f23ec",
   "metadata": {},
   "outputs": [
    {
     "data": {
      "text/plain": [
       "15915334.36257625"
      ]
     },
     "execution_count": 40,
     "metadata": {},
     "output_type": "execute_result"
    }
   ],
   "source": [
    "np.var(diamond['price'])"
   ]
  },
  {
   "cell_type": "code",
   "execution_count": 42,
   "id": "ef6d6bc2-f0ea-4e42-908a-a184df9d97fd",
   "metadata": {},
   "outputs": [
    {
     "data": {
      "text/plain": [
       "1.1421240869899865"
      ]
     },
     "execution_count": 42,
     "metadata": {},
     "output_type": "execute_result"
    }
   ],
   "source": [
    "np.std(diamond['y'])"
   ]
  },
  {
   "cell_type": "code",
   "execution_count": 45,
   "id": "65079df8-c1c7-47a9-99ca-6fb38a642e42",
   "metadata": {},
   "outputs": [
    {
     "data": {
      "text/plain": [
       "18497"
      ]
     },
     "execution_count": 45,
     "metadata": {},
     "output_type": "execute_result"
    }
   ],
   "source": [
    "range = max(diamond[\"price\"]) - min(diamond[\"price\"])\n",
    "range"
   ]
  },
  {
   "cell_type": "code",
   "execution_count": null,
   "id": "a13e5b81-9caa-417a-8be6-0548e2a27fdb",
   "metadata": {},
   "outputs": [],
   "source": [
    "# Q6. What is a Venn diagram?\n",
    "Ans.\n",
    "Venn diagrams are made up of circles or other shapes that represent sets. The area inside a circle represents the \n",
    "elements that are in that set. The area where two circles overlap represents the elements that are in both sets.\n",
    "The area where three or more circles overlap represents the elements that are in all of the sets."
   ]
  },
  {
   "cell_type": "code",
   "execution_count": 54,
   "id": "6231263f-a536-4736-a485-27e99d2fee8e",
   "metadata": {},
   "outputs": [],
   "source": [
    "# Q7. For the two given sets A = (2,3,4,5,6,7) & B = (0,2,6,8,10). Find:\n",
    "# (i) A B\n",
    "# (ii) A ⋃ B\n",
    "\n",
    "A = (2,3,4,5,6,7)\n",
    "B = (0,2,6,8,10)\n",
    "\n",
    "set_A = set(A)\n",
    "set_B = set(B)\n",
    "intersection = set_A.intersection(set_B)\n",
    "union = set_A.union(set_B)"
   ]
  },
  {
   "cell_type": "code",
   "execution_count": 55,
   "id": "e5013f15-c2c9-4b2b-a98d-7c319fb83c8b",
   "metadata": {},
   "outputs": [
    {
     "data": {
      "text/plain": [
       "{2, 6}"
      ]
     },
     "execution_count": 55,
     "metadata": {},
     "output_type": "execute_result"
    }
   ],
   "source": [
    "intersection"
   ]
  },
  {
   "cell_type": "code",
   "execution_count": 56,
   "id": "9bbe4705-e17a-40fd-8b0d-f58bb2a5b12d",
   "metadata": {},
   "outputs": [
    {
     "data": {
      "text/plain": [
       "{0, 2, 3, 4, 5, 6, 7, 8, 10}"
      ]
     },
     "execution_count": 56,
     "metadata": {},
     "output_type": "execute_result"
    }
   ],
   "source": [
    "union"
   ]
  },
  {
   "cell_type": "code",
   "execution_count": null,
   "id": "b8fe91a2-ab73-4aa4-8b37-794fe7b14069",
   "metadata": {},
   "outputs": [],
   "source": [
    "# Q8. What do you understand about skewness in data?\n",
    "Ans.\n",
    "\n",
    "Skewness is a measure of the asymmetry of a distribution. A distribution is asymmetrical when its left and right side\n",
    "are not mirror images.\n",
    "\n",
    "There are two types of skewness:\n",
    "1. Positive skew: This occurs when the tail of the distribution is longer on the right side than on the left. This means\n",
    "that there are more extreme values on the right side of the distribution than on the left.\n",
    "2. Negative skew: This occurs when the tail of the distribution is longer on the left side than on the right. This means\n",
    "that there are more extreme values on the left side of the distribution than on the right."
   ]
  },
  {
   "cell_type": "code",
   "execution_count": null,
   "id": "02f8d3b3-45a4-4628-921f-39a09c361afb",
   "metadata": {},
   "outputs": [],
   "source": [
    "# Q9. If a data is right skewed then what will be the position of median with respect to mean?\n",
    "Ans.\n",
    "In a right-skewed distribution, the mean is greater than the median. This is because the tail of the distribution is \n",
    "longer on the right side, which means that there are more extreme values on the right side of the distribution than on\n",
    "the left. The median, on the other hand, is the middle value in the distribution, so it is not affected by the extreme\n",
    "values on the right side."
   ]
  },
  {
   "cell_type": "code",
   "execution_count": null,
   "id": "c320e57a-80fc-42b5-858b-4609ca95e85f",
   "metadata": {},
   "outputs": [],
   "source": [
    "# Q10. Explain the difference between covariance and correlation. How are these measures used in\n",
    "# statistical analysis?\n",
    "1. Covariance: Covariance measures the direction and strength of the linear relationship between two variables.The covariance\n",
    "can take on positive or negative values. A positive covariance indicates a positive relationship, meaning that as one variable\n",
    "increases, the other tends to increase as well. A negative covariance indicates a negative relationship, meaning that as one\n",
    "variable increases, the other tends to decrease.\n",
    "\n",
    "2. Correlation: Correlation, specifically Pearson's correlation coefficient, measures the strength and direction of the linear\n",
    "relationship between two variables. The correlation coefficient ranges from -1 to 1. A correlation of 1 indicates a perfect \n",
    "positive relationship, -1 indicates a perfect negative relationship, and 0 indicates no linear relationship between the variables."
   ]
  },
  {
   "cell_type": "code",
   "execution_count": 63,
   "id": "27b7e1cd-f128-401f-97d0-e5a94ded5c1b",
   "metadata": {},
   "outputs": [
    {
     "data": {
      "text/html": [
       "<div>\n",
       "<style scoped>\n",
       "    .dataframe tbody tr th:only-of-type {\n",
       "        vertical-align: middle;\n",
       "    }\n",
       "\n",
       "    .dataframe tbody tr th {\n",
       "        vertical-align: top;\n",
       "    }\n",
       "\n",
       "    .dataframe thead th {\n",
       "        text-align: right;\n",
       "    }\n",
       "</style>\n",
       "<table border=\"1\" class=\"dataframe\">\n",
       "  <thead>\n",
       "    <tr style=\"text-align: right;\">\n",
       "      <th></th>\n",
       "      <th>align</th>\n",
       "      <th>choice</th>\n",
       "      <th>time</th>\n",
       "      <th>coherence</th>\n",
       "      <th>firing_rate</th>\n",
       "    </tr>\n",
       "  </thead>\n",
       "  <tbody>\n",
       "    <tr>\n",
       "      <th>0</th>\n",
       "      <td>dots</td>\n",
       "      <td>T1</td>\n",
       "      <td>-80</td>\n",
       "      <td>0.0</td>\n",
       "      <td>33.189967</td>\n",
       "    </tr>\n",
       "    <tr>\n",
       "      <th>1</th>\n",
       "      <td>dots</td>\n",
       "      <td>T1</td>\n",
       "      <td>-80</td>\n",
       "      <td>3.2</td>\n",
       "      <td>31.691726</td>\n",
       "    </tr>\n",
       "    <tr>\n",
       "      <th>2</th>\n",
       "      <td>dots</td>\n",
       "      <td>T1</td>\n",
       "      <td>-80</td>\n",
       "      <td>6.4</td>\n",
       "      <td>34.279840</td>\n",
       "    </tr>\n",
       "    <tr>\n",
       "      <th>3</th>\n",
       "      <td>dots</td>\n",
       "      <td>T1</td>\n",
       "      <td>-80</td>\n",
       "      <td>12.8</td>\n",
       "      <td>32.631874</td>\n",
       "    </tr>\n",
       "    <tr>\n",
       "      <th>4</th>\n",
       "      <td>dots</td>\n",
       "      <td>T1</td>\n",
       "      <td>-80</td>\n",
       "      <td>25.6</td>\n",
       "      <td>35.060487</td>\n",
       "    </tr>\n",
       "  </tbody>\n",
       "</table>\n",
       "</div>"
      ],
      "text/plain": [
       "  align choice  time  coherence  firing_rate\n",
       "0  dots     T1   -80        0.0    33.189967\n",
       "1  dots     T1   -80        3.2    31.691726\n",
       "2  dots     T1   -80        6.4    34.279840\n",
       "3  dots     T1   -80       12.8    32.631874\n",
       "4  dots     T1   -80       25.6    35.060487"
      ]
     },
     "execution_count": 63,
     "metadata": {},
     "output_type": "execute_result"
    }
   ],
   "source": [
    "# Example how covariance and correlation are measures\n",
    "import seaborn as sns\n",
    "exe = sns.load_dataset(\"dots\")\n",
    "exe.head()"
   ]
  },
  {
   "cell_type": "code",
   "execution_count": 64,
   "id": "88ea8abc-4c2e-4de9-b4d2-993ab562a89b",
   "metadata": {},
   "outputs": [
    {
     "name": "stderr",
     "output_type": "stream",
     "text": [
      "/tmp/ipykernel_77/1227792583.py:1: FutureWarning: The default value of numeric_only in DataFrame.cov is deprecated. In a future version, it will default to False. Select only valid columns or specify the value of numeric_only to silence this warning.\n",
      "  exe.cov()\n"
     ]
    },
    {
     "data": {
      "text/html": [
       "<div>\n",
       "<style scoped>\n",
       "    .dataframe tbody tr th:only-of-type {\n",
       "        vertical-align: middle;\n",
       "    }\n",
       "\n",
       "    .dataframe tbody tr th {\n",
       "        vertical-align: top;\n",
       "    }\n",
       "\n",
       "    .dataframe thead th {\n",
       "        text-align: right;\n",
       "    }\n",
       "</style>\n",
       "<table border=\"1\" class=\"dataframe\">\n",
       "  <thead>\n",
       "    <tr style=\"text-align: right;\">\n",
       "      <th></th>\n",
       "      <th>time</th>\n",
       "      <th>coherence</th>\n",
       "      <th>firing_rate</th>\n",
       "    </tr>\n",
       "  </thead>\n",
       "  <tbody>\n",
       "    <tr>\n",
       "      <th>time</th>\n",
       "      <td>80995.264084</td>\n",
       "      <td>51.502528</td>\n",
       "      <td>-517.049025</td>\n",
       "    </tr>\n",
       "    <tr>\n",
       "      <th>coherence</th>\n",
       "      <td>51.502528</td>\n",
       "      <td>238.810858</td>\n",
       "      <td>-24.061190</td>\n",
       "    </tr>\n",
       "    <tr>\n",
       "      <th>firing_rate</th>\n",
       "      <td>-517.049025</td>\n",
       "      <td>-24.061190</td>\n",
       "      <td>149.645486</td>\n",
       "    </tr>\n",
       "  </tbody>\n",
       "</table>\n",
       "</div>"
      ],
      "text/plain": [
       "                     time   coherence  firing_rate\n",
       "time         80995.264084   51.502528  -517.049025\n",
       "coherence       51.502528  238.810858   -24.061190\n",
       "firing_rate   -517.049025  -24.061190   149.645486"
      ]
     },
     "execution_count": 64,
     "metadata": {},
     "output_type": "execute_result"
    }
   ],
   "source": [
    "exe.cov()"
   ]
  },
  {
   "cell_type": "code",
   "execution_count": 67,
   "id": "4df8925c-1224-4378-844b-ab444615adda",
   "metadata": {},
   "outputs": [
    {
     "name": "stderr",
     "output_type": "stream",
     "text": [
      "/tmp/ipykernel_77/2118843256.py:1: FutureWarning: The default value of numeric_only in DataFrame.corr is deprecated. In a future version, it will default to False. Select only valid columns or specify the value of numeric_only to silence this warning.\n",
      "  exe.corr(method=\"pearson\")\n"
     ]
    },
    {
     "data": {
      "text/html": [
       "<div>\n",
       "<style scoped>\n",
       "    .dataframe tbody tr th:only-of-type {\n",
       "        vertical-align: middle;\n",
       "    }\n",
       "\n",
       "    .dataframe tbody tr th {\n",
       "        vertical-align: top;\n",
       "    }\n",
       "\n",
       "    .dataframe thead th {\n",
       "        text-align: right;\n",
       "    }\n",
       "</style>\n",
       "<table border=\"1\" class=\"dataframe\">\n",
       "  <thead>\n",
       "    <tr style=\"text-align: right;\">\n",
       "      <th></th>\n",
       "      <th>time</th>\n",
       "      <th>coherence</th>\n",
       "      <th>firing_rate</th>\n",
       "    </tr>\n",
       "  </thead>\n",
       "  <tbody>\n",
       "    <tr>\n",
       "      <th>time</th>\n",
       "      <td>1.000000</td>\n",
       "      <td>0.011710</td>\n",
       "      <td>-0.148515</td>\n",
       "    </tr>\n",
       "    <tr>\n",
       "      <th>coherence</th>\n",
       "      <td>0.011710</td>\n",
       "      <td>1.000000</td>\n",
       "      <td>-0.127279</td>\n",
       "    </tr>\n",
       "    <tr>\n",
       "      <th>firing_rate</th>\n",
       "      <td>-0.148515</td>\n",
       "      <td>-0.127279</td>\n",
       "      <td>1.000000</td>\n",
       "    </tr>\n",
       "  </tbody>\n",
       "</table>\n",
       "</div>"
      ],
      "text/plain": [
       "                 time  coherence  firing_rate\n",
       "time         1.000000   0.011710    -0.148515\n",
       "coherence    0.011710   1.000000    -0.127279\n",
       "firing_rate -0.148515  -0.127279     1.000000"
      ]
     },
     "execution_count": 67,
     "metadata": {},
     "output_type": "execute_result"
    }
   ],
   "source": [
    "exe.corr(method=\"pearson\")"
   ]
  },
  {
   "cell_type": "code",
   "execution_count": 69,
   "id": "67843506-b971-46d1-98d2-7b9247f955a4",
   "metadata": {},
   "outputs": [
    {
     "name": "stderr",
     "output_type": "stream",
     "text": [
      "/tmp/ipykernel_77/1399125854.py:1: FutureWarning: The default value of numeric_only in DataFrame.corr is deprecated. In a future version, it will default to False. Select only valid columns or specify the value of numeric_only to silence this warning.\n",
      "  exe.corr(method=\"spearman\")\n"
     ]
    },
    {
     "data": {
      "text/html": [
       "<div>\n",
       "<style scoped>\n",
       "    .dataframe tbody tr th:only-of-type {\n",
       "        vertical-align: middle;\n",
       "    }\n",
       "\n",
       "    .dataframe tbody tr th {\n",
       "        vertical-align: top;\n",
       "    }\n",
       "\n",
       "    .dataframe thead th {\n",
       "        text-align: right;\n",
       "    }\n",
       "</style>\n",
       "<table border=\"1\" class=\"dataframe\">\n",
       "  <thead>\n",
       "    <tr style=\"text-align: right;\">\n",
       "      <th></th>\n",
       "      <th>time</th>\n",
       "      <th>coherence</th>\n",
       "      <th>firing_rate</th>\n",
       "    </tr>\n",
       "  </thead>\n",
       "  <tbody>\n",
       "    <tr>\n",
       "      <th>time</th>\n",
       "      <td>1.00000</td>\n",
       "      <td>0.000040</td>\n",
       "      <td>-0.148660</td>\n",
       "    </tr>\n",
       "    <tr>\n",
       "      <th>coherence</th>\n",
       "      <td>0.00004</td>\n",
       "      <td>1.000000</td>\n",
       "      <td>-0.190309</td>\n",
       "    </tr>\n",
       "    <tr>\n",
       "      <th>firing_rate</th>\n",
       "      <td>-0.14866</td>\n",
       "      <td>-0.190309</td>\n",
       "      <td>1.000000</td>\n",
       "    </tr>\n",
       "  </tbody>\n",
       "</table>\n",
       "</div>"
      ],
      "text/plain": [
       "                time  coherence  firing_rate\n",
       "time         1.00000   0.000040    -0.148660\n",
       "coherence    0.00004   1.000000    -0.190309\n",
       "firing_rate -0.14866  -0.190309     1.000000"
      ]
     },
     "execution_count": 69,
     "metadata": {},
     "output_type": "execute_result"
    }
   ],
   "source": [
    "exe.corr(method=\"spearman\")"
   ]
  },
  {
   "cell_type": "code",
   "execution_count": null,
   "id": "8ca5bfd4-b641-4201-90a1-310816ae9d5b",
   "metadata": {},
   "outputs": [],
   "source": [
    "# Q11. What is the formula for calculating the sample mean? Provide an example calculation for a\n",
    "# dataset.\n",
    "Ans. \n",
    "Formula Sample Mean = (Sum of all values in the dataset) / (Total number of values in the dataset)"
   ]
  },
  {
   "cell_type": "code",
   "execution_count": 74,
   "id": "9d18ef25-5d00-473c-bfa0-b130b53a67f1",
   "metadata": {},
   "outputs": [
    {
     "name": "stdout",
     "output_type": "stream",
     "text": [
      "210\n"
     ]
    }
   ],
   "source": [
    "dataset = [10,20,30,40,50,60]\n",
    "sum = 0\n",
    "for i in dataset:\n",
    "    sum = sum + i\n",
    "print(sum)"
   ]
  },
  {
   "cell_type": "code",
   "execution_count": 75,
   "id": "469c091f-370d-4521-be28-1198d328d4cc",
   "metadata": {},
   "outputs": [],
   "source": [
    "Sample_mean = sum / len(dataset) "
   ]
  },
  {
   "cell_type": "code",
   "execution_count": 77,
   "id": "6ef30ade-3b10-4daf-b545-144f667b6c09",
   "metadata": {},
   "outputs": [
    {
     "data": {
      "text/plain": [
       "35.0"
      ]
     },
     "execution_count": 77,
     "metadata": {},
     "output_type": "execute_result"
    }
   ],
   "source": [
    "Sample_mean"
   ]
  },
  {
   "cell_type": "code",
   "execution_count": null,
   "id": "fd156489-e57d-47f9-be58-5aa6f065376b",
   "metadata": {},
   "outputs": [],
   "source": [
    "# Q12. For a normal distribution data what is the relationship between its measure of central tendency?\n",
    "Ans.\n",
    "In Normal distribution, all three measures of central tendency (mean, median, and mode) are equal. This\n",
    "is because a normal distribution is symmetrical, meaning that the data is evenly distributed around the mean.\n",
    "The relationship between the measures of central tendency in a normal distribution is important because it \n",
    "allows us to make inferences about the data. For example, if we know that the mean, median, and mode are all\n",
    "equal, we can be confident that the data is normally distributed."
   ]
  },
  {
   "cell_type": "code",
   "execution_count": null,
   "id": "89a059e1-c2b0-44a2-b232-a669d2d68b0a",
   "metadata": {},
   "outputs": [],
   "source": [
    "# Q13. How is covariance different from correlation?\n",
    "Ans.\n",
    "a. Covariance is not scaled, while correlation is scaled. This means that covariance can take on any value between \n",
    "-inf and +inf, while correlation is always between -1 and +1.\n",
    "b. Covariance measures the linear relationship between two variables, while correlation measures the strength \n",
    "and direction of the linear relationship between two variables. \n",
    "c. Covariance is not as sensitive to outliers as correlation. This means that covariance is less likely to be\n",
    "affected by extreme values in the data."
   ]
  },
  {
   "cell_type": "code",
   "execution_count": null,
   "id": "dc109434-ca9e-4788-9be4-b650a65d9cc9",
   "metadata": {},
   "outputs": [],
   "source": [
    "# Q14. How do outliers affect measures of central tendency and dispersion? Provide an example.\n",
    "Ans.\n",
    "Outliers are data points that are significantly different from the rest of the data set. They can affect \n",
    "measures of central tendency and dispersion in a number of ways.\n",
    "\n",
    "Measures of central tendency\n",
    "a.Mean: The mean is the average of all the values in a dataset. Outliers can have a significant impact on \n",
    "the mean, especially if they are very large or very small. \n",
    "b.Median: The median is the middle value in a dataset when all the values are arranged in increasing or decreasing\n",
    "order. Outliers do not affect the median as much as they affect the mean, because the median is not affected by\n",
    "extreme values.\n",
    "c.Mode: The mode is the most frequent value in a dataset. Outliers do not affect the mode at all, because the mode\n",
    "is simply the value that appears most often in the dataset.\n",
    "\n",
    "Measures of dispersion\n",
    "a.Range: The range is the difference between the highest and lowest values in a dataset. Outliers can increase the\n",
    "range of a dataset, because they can be much larger or much smaller than the other values in the dataset.\n",
    "b.Variance: The variance is a measure of how spread out the data is around the mean. Outliers can increase the variance\n",
    "of a dataset, because they can be much further away from the mean than the other values in the dataset.\n",
    "c.Standard deviation: The standard deviation is the square root of the variance. Outliers can increase the standard \n",
    "deviation of a dataset, because they can be much further away from the mean than the other values in the dataset."
   ]
  },
  {
   "cell_type": "code",
   "execution_count": 96,
   "id": "0abcaae1-4fa5-44ea-add5-d11cba034c7c",
   "metadata": {},
   "outputs": [
    {
     "data": {
      "text/plain": [
       "3.5454545454545454"
      ]
     },
     "execution_count": 96,
     "metadata": {},
     "output_type": "execute_result"
    }
   ],
   "source": [
    "# Example for measure of central tendency\n",
    "import numpy as np\n",
    "data = [1,2,1,2,7,1,3,4,5,6,7]\n",
    "np.mean(data)"
   ]
  },
  {
   "cell_type": "code",
   "execution_count": 97,
   "id": "2e04cd0c-fbae-4b2e-9b4c-5f0eb68fedea",
   "metadata": {},
   "outputs": [
    {
     "data": {
      "text/plain": [
       "3.0"
      ]
     },
     "execution_count": 97,
     "metadata": {},
     "output_type": "execute_result"
    }
   ],
   "source": [
    "np.median(data)"
   ]
  },
  {
   "cell_type": "code",
   "execution_count": 98,
   "id": "60ab5f31-4462-4951-8e00-766c4e7d72f1",
   "metadata": {},
   "outputs": [],
   "source": [
    "from scipy import stats"
   ]
  },
  {
   "cell_type": "code",
   "execution_count": 99,
   "id": "884aefab-d3a0-4f2b-adb8-902178a7599b",
   "metadata": {},
   "outputs": [
    {
     "name": "stderr",
     "output_type": "stream",
     "text": [
      "/tmp/ipykernel_77/3267261142.py:1: FutureWarning: Unlike other reduction functions (e.g. `skew`, `kurtosis`), the default behavior of `mode` typically preserves the axis it acts along. In SciPy 1.11.0, this behavior will change: the default value of `keepdims` will become False, the `axis` over which the statistic is taken will be eliminated, and the value None will no longer be accepted. Set `keepdims` to True or False to avoid this warning.\n",
      "  stats.mode(data)\n"
     ]
    },
    {
     "data": {
      "text/plain": [
       "ModeResult(mode=array([1]), count=array([3]))"
      ]
     },
     "execution_count": 99,
     "metadata": {},
     "output_type": "execute_result"
    }
   ],
   "source": [
    "stats.mode(data)"
   ]
  },
  {
   "cell_type": "code",
   "execution_count": 100,
   "id": "c8b188b3-aa95-4857-a513-f74102efeb85",
   "metadata": {},
   "outputs": [
    {
     "data": {
      "text/plain": [
       "11.583333333333334"
      ]
     },
     "execution_count": 100,
     "metadata": {},
     "output_type": "execute_result"
    }
   ],
   "source": [
    "data1 =  [1,2,1,2,7,1,3,4,5,6,7,100]\n",
    "np.mean(data1)"
   ]
  },
  {
   "cell_type": "code",
   "execution_count": 101,
   "id": "884ab408-da73-4cb1-9967-8ecbb8d3c9ca",
   "metadata": {},
   "outputs": [
    {
     "data": {
      "text/plain": [
       "3.5"
      ]
     },
     "execution_count": 101,
     "metadata": {},
     "output_type": "execute_result"
    }
   ],
   "source": [
    "np.median(data1)"
   ]
  },
  {
   "cell_type": "code",
   "execution_count": 102,
   "id": "728267ea-4c0a-4b76-bd18-2d78b074be58",
   "metadata": {},
   "outputs": [
    {
     "name": "stderr",
     "output_type": "stream",
     "text": [
      "/tmp/ipykernel_77/3267261142.py:1: FutureWarning: Unlike other reduction functions (e.g. `skew`, `kurtosis`), the default behavior of `mode` typically preserves the axis it acts along. In SciPy 1.11.0, this behavior will change: the default value of `keepdims` will become False, the `axis` over which the statistic is taken will be eliminated, and the value None will no longer be accepted. Set `keepdims` to True or False to avoid this warning.\n",
      "  stats.mode(data)\n"
     ]
    },
    {
     "data": {
      "text/plain": [
       "ModeResult(mode=array([1]), count=array([3]))"
      ]
     },
     "execution_count": 102,
     "metadata": {},
     "output_type": "execute_result"
    }
   ],
   "source": [
    "stats.mode(data)"
   ]
  },
  {
   "cell_type": "code",
   "execution_count": 112,
   "id": "35fa55fd-8716-4f45-84ba-88139324d484",
   "metadata": {},
   "outputs": [
    {
     "data": {
      "text/plain": [
       "5.1570247933884295"
      ]
     },
     "execution_count": 112,
     "metadata": {},
     "output_type": "execute_result"
    }
   ],
   "source": [
    "# Example of Measure of dispersion\n",
    "import numpy as np\n",
    "data = [1,2,1,2,7,1,3,4,5,6,7]\n",
    "np.var(data)"
   ]
  },
  {
   "cell_type": "code",
   "execution_count": 113,
   "id": "678555d3-2c17-4c81-9b46-1bc9cdb1b745",
   "metadata": {},
   "outputs": [
    {
     "data": {
      "text/plain": [
       "2.270908363053963"
      ]
     },
     "execution_count": 113,
     "metadata": {},
     "output_type": "execute_result"
    }
   ],
   "source": [
    "np.std(data)"
   ]
  },
  {
   "cell_type": "code",
   "execution_count": 114,
   "id": "088598da-6ac4-44c6-8143-5f68711141d0",
   "metadata": {},
   "outputs": [],
   "source": [
    "data2 = [1,2,1,2,7,1,3,4,5,6,7,100,200]"
   ]
  },
  {
   "cell_type": "code",
   "execution_count": 115,
   "id": "5fe4c721-4261-45ba-8c64-d94613d88e8b",
   "metadata": {},
   "outputs": [
    {
     "data": {
      "text/plain": [
       "3181.147928994083"
      ]
     },
     "execution_count": 115,
     "metadata": {},
     "output_type": "execute_result"
    }
   ],
   "source": [
    "np.var(data2)"
   ]
  },
  {
   "cell_type": "code",
   "execution_count": 116,
   "id": "8a75b04e-6fc4-4132-bc63-339dad769636",
   "metadata": {},
   "outputs": [
    {
     "data": {
      "text/plain": [
       "56.40166601257522"
      ]
     },
     "execution_count": 116,
     "metadata": {},
     "output_type": "execute_result"
    }
   ],
   "source": [
    "np.std(data2)"
   ]
  },
  {
   "cell_type": "code",
   "execution_count": null,
   "id": "ab5dd371-7164-4efc-bc58-4ef9d4e23f28",
   "metadata": {},
   "outputs": [],
   "source": []
  }
 ],
 "metadata": {
  "kernelspec": {
   "display_name": "Python 3 (ipykernel)",
   "language": "python",
   "name": "python3"
  },
  "language_info": {
   "codemirror_mode": {
    "name": "ipython",
    "version": 3
   },
   "file_extension": ".py",
   "mimetype": "text/x-python",
   "name": "python",
   "nbconvert_exporter": "python",
   "pygments_lexer": "ipython3",
   "version": "3.10.8"
  }
 },
 "nbformat": 4,
 "nbformat_minor": 5
}
